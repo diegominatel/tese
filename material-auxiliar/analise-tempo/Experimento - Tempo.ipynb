{
 "cells": [
  {
   "cell_type": "markdown",
   "id": "9ba27694",
   "metadata": {},
   "source": [
    "# Experimento - Tempo\n",
    "\n",
    "Neste código está o experimento proposto para a análise de tempo apresentada na Seção 3.1.5"
   ]
  },
  {
   "cell_type": "code",
   "execution_count": null,
   "id": "fd978c78",
   "metadata": {},
   "outputs": [],
   "source": [
    "''' Bibliotecas Necessárias '''\n",
    "import numpy as np\n",
    "import pandas as pd\n",
    "import time\n",
    "from IPython.display import clear_output\n",
    "''' Código que chama o MIRT para a realização do experimento '''\n",
    "from mirt import Mirt\n",
    "''' Define a semente '''\n",
    "np.random.seed(42)"
   ]
  },
  {
   "cell_type": "code",
   "execution_count": null,
   "id": "0111627a",
   "metadata": {},
   "outputs": [],
   "source": [
    "def generate_answers(n):\n",
    "    '''\n",
    "    Função que gera um conjunto de respostas aleatórias para um item (dado pela probabilidade p de acerto).\n",
    "    Entradas:\n",
    "        n = número de indivíduos\n",
    "    '''\n",
    "    p = np.random.rand()\n",
    "    return np.random.choice([0, 1], size=n, p=[1.0-p, p])\n",
    "\n",
    "def generate_test(n, t):\n",
    "    '''\n",
    "    Função que gera um teste, onde cada item do teste é gerado pela fuunção generate_answers\n",
    "    Entradas: \n",
    "        n = número de indivíduos\n",
    "        t = número de itens\n",
    "    '''\n",
    "    test = pd.DataFrame()\n",
    "    for i in range(0, t):\n",
    "        ctrl = 1\n",
    "        # se houver ao menos um erro e um acerto, salva o resultado, caso contrário gera de novo\n",
    "        while ctrl == 1:\n",
    "            value = generate_answers(n)\n",
    "            ctrl = len(np.unique(value)) \n",
    "        test[i] = value \n",
    "    return test\n",
    "\n",
    "def time_item_experiment(N, T, q):\n",
    "    '''\n",
    "    Função que gera um experimento completo de análise de tempo\n",
    "    Entradas: \n",
    "        N = vetor com a variação de indivíduos a ser testada\n",
    "        T = vetor com a variação de itens a ser testada\n",
    "        q = número de vezes que repete a mesma configuração\n",
    "    '''\n",
    "    report = pd.DataFrame(columns = ['TRI', 'N_ID', 'N_ITENS', 'TIME'])\n",
    "    total = len(N)*len(T)*q*3\n",
    "    count = 0\n",
    "    # Varia o número de individuos\n",
    "    for n in N:\n",
    "        # Varia o número de itens\n",
    "        for t in T:\n",
    "            # Repete o exemperimento q vezes\n",
    "            for i in range(0, q):\n",
    "                test = generate_test(n, t)\n",
    "                # Varia os modelos\n",
    "                for model in ['Rasch', '2PL', '3PL']:\n",
    "                    clear_output()\n",
    "                    print((\"%d/%d\") % (count, total))\n",
    "                    inicio = time.time()\n",
    "                    mirt_model = Mirt()\n",
    "                    mirt_model.calculate(test, model)\n",
    "                    fim = time.time()\n",
    "                    report.loc[count] = [model, n, t, fim - inicio]\n",
    "                    count += 1\n",
    "\n",
    "    return report"
   ]
  },
  {
   "cell_type": "code",
   "execution_count": null,
   "id": "01d6f0a8",
   "metadata": {},
   "outputs": [],
   "source": [
    "'''\n",
    "---\n",
    "Experimento 1 - Análise dos Itens\n",
    "---\n",
    "Fixa o número de indivíduos em 5000 e varia o número de itens de 5 a 250.\n",
    "''' \n",
    "N = [5000]\n",
    "T = np.arange(5, 250, 5)\n",
    "rel1 = time_item_experiment(N, T, 10)\n",
    "rel1.to_csv('exp1.csv', sep=';', index=False)"
   ]
  },
  {
   "cell_type": "code",
   "execution_count": null,
   "id": "302c87f8",
   "metadata": {},
   "outputs": [],
   "source": [
    "'''\n",
    "---\n",
    "Experimento 2 - Análise dos Indivíduos\n",
    "---\n",
    "Fixa o número de itens em 50 e varia o número de indivíduos de 10 a 40000.\n",
    "'''\n",
    "N = np.arange(10, 40210, 200)\n",
    "T = [50]\n",
    "rel2 = time_item_experiment(N, T, 10)\n",
    "rel2.to_csv('exp2.csv', sep=';', index=False)"
   ]
  },
  {
   "cell_type": "code",
   "execution_count": null,
   "id": "0de202b9",
   "metadata": {},
   "outputs": [],
   "source": []
  }
 ],
 "metadata": {
  "kernelspec": {
   "display_name": "Python 3 (ipykernel)",
   "language": "python",
   "name": "python3"
  },
  "language_info": {
   "codemirror_mode": {
    "name": "ipython",
    "version": 3
   },
   "file_extension": ".py",
   "mimetype": "text/x-python",
   "name": "python",
   "nbconvert_exporter": "python",
   "pygments_lexer": "ipython3",
   "version": "3.8.10"
  }
 },
 "nbformat": 4,
 "nbformat_minor": 5
}
