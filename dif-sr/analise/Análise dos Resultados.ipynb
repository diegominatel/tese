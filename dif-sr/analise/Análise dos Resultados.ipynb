{
 "cells": [
  {
   "cell_type": "markdown",
   "id": "63f0a49d",
   "metadata": {},
   "source": [
    "## Resultados dos experimentos referentes ao DIF-SR"
   ]
  },
  {
   "cell_type": "code",
   "execution_count": 1,
   "id": "53b0d92b",
   "metadata": {},
   "outputs": [],
   "source": [
    "import pandas as pd\n",
    "from analysis import report_best_model, report_validation, report_dif_model, cd\n",
    "\n",
    "import warnings\n",
    "warnings.filterwarnings('ignore')"
   ]
  },
  {
   "cell_type": "markdown",
   "id": "5e0dca10",
   "metadata": {},
   "source": [
    "### Resultados no conjunto de validação"
   ]
  },
  {
   "cell_type": "code",
   "execution_count": 2,
   "id": "b31a3d0e",
   "metadata": {},
   "outputs": [
    {
     "data": {
      "text/html": [
       "<div>\n",
       "<style scoped>\n",
       "    .dataframe tbody tr th:only-of-type {\n",
       "        vertical-align: middle;\n",
       "    }\n",
       "\n",
       "    .dataframe tbody tr th {\n",
       "        vertical-align: top;\n",
       "    }\n",
       "\n",
       "    .dataframe thead th {\n",
       "        text-align: right;\n",
       "    }\n",
       "</style>\n",
       "<table border=\"1\" class=\"dataframe\">\n",
       "  <thead>\n",
       "    <tr style=\"text-align: right;\">\n",
       "      <th></th>\n",
       "      <th>SRA</th>\n",
       "      <th>DIF-SR</th>\n",
       "      <th>Reweighing</th>\n",
       "    </tr>\n",
       "    <tr>\n",
       "      <th>Dataset</th>\n",
       "      <th></th>\n",
       "      <th></th>\n",
       "      <th></th>\n",
       "    </tr>\n",
       "  </thead>\n",
       "  <tbody>\n",
       "    <tr>\n",
       "      <th>adult</th>\n",
       "      <td>0.36</td>\n",
       "      <td>0.52</td>\n",
       "      <td>0.44</td>\n",
       "    </tr>\n",
       "    <tr>\n",
       "      <th>amphet</th>\n",
       "      <td>0.92</td>\n",
       "      <td>0.98</td>\n",
       "      <td>0.93</td>\n",
       "    </tr>\n",
       "    <tr>\n",
       "      <th>arrhythmia</th>\n",
       "      <td>0.41</td>\n",
       "      <td>0.51</td>\n",
       "      <td>0.45</td>\n",
       "    </tr>\n",
       "    <tr>\n",
       "      <th>bank</th>\n",
       "      <td>0.46</td>\n",
       "      <td>0.64</td>\n",
       "      <td>0.54</td>\n",
       "    </tr>\n",
       "    <tr>\n",
       "      <th>compasmen</th>\n",
       "      <td>0.64</td>\n",
       "      <td>1.10</td>\n",
       "      <td>0.67</td>\n",
       "    </tr>\n",
       "    <tr>\n",
       "      <th>compaswomen</th>\n",
       "      <td>0.67</td>\n",
       "      <td>0.95</td>\n",
       "      <td>0.71</td>\n",
       "    </tr>\n",
       "    <tr>\n",
       "      <th>contraceptive</th>\n",
       "      <td>0.94</td>\n",
       "      <td>0.91</td>\n",
       "      <td>0.95</td>\n",
       "    </tr>\n",
       "    <tr>\n",
       "      <th>ecstasy</th>\n",
       "      <td>0.79</td>\n",
       "      <td>0.86</td>\n",
       "      <td>0.79</td>\n",
       "    </tr>\n",
       "    <tr>\n",
       "      <th>german</th>\n",
       "      <td>1.10</td>\n",
       "      <td>1.10</td>\n",
       "      <td>1.09</td>\n",
       "    </tr>\n",
       "    <tr>\n",
       "      <th>heart</th>\n",
       "      <td>0.55</td>\n",
       "      <td>0.62</td>\n",
       "      <td>0.53</td>\n",
       "    </tr>\n",
       "    <tr>\n",
       "      <th>student</th>\n",
       "      <td>0.89</td>\n",
       "      <td>0.93</td>\n",
       "      <td>0.92</td>\n",
       "    </tr>\n",
       "    <tr>\n",
       "      <th>titanic</th>\n",
       "      <td>0.10</td>\n",
       "      <td>0.36</td>\n",
       "      <td>0.27</td>\n",
       "    </tr>\n",
       "  </tbody>\n",
       "</table>\n",
       "</div>"
      ],
      "text/plain": [
       "                SRA  DIF-SR  Reweighing\n",
       "Dataset                                \n",
       "adult          0.36    0.52        0.44\n",
       "amphet         0.92    0.98        0.93\n",
       "arrhythmia     0.41    0.51        0.45\n",
       "bank           0.46    0.64        0.54\n",
       "compasmen      0.64    1.10        0.67\n",
       "compaswomen    0.67    0.95        0.71\n",
       "contraceptive  0.94    0.91        0.95\n",
       "ecstasy        0.79    0.86        0.79\n",
       "german         1.10    1.10        1.09\n",
       "heart          0.55    0.62        0.53\n",
       "student        0.89    0.93        0.92\n",
       "titanic        0.10    0.36        0.27"
      ]
     },
     "execution_count": 2,
     "metadata": {},
     "output_type": "execute_result"
    }
   ],
   "source": [
    "# Média dos resultados MCPM por dataset\n",
    "validation, f1_v = report_validation('multicriteria')\n",
    "validation.groupby(by='Dataset').mean().round(decimals=2)"
   ]
  },
  {
   "cell_type": "code",
   "execution_count": 3,
   "id": "3a8dad5c",
   "metadata": {},
   "outputs": [
    {
     "data": {
      "text/plain": [
       "SRA           0.653007\n",
       "DIF-SR        0.789088\n",
       "Reweighing    0.690316\n",
       "dtype: float64"
      ]
     },
     "execution_count": 3,
     "metadata": {},
     "output_type": "execute_result"
    }
   ],
   "source": [
    "# Média geral MCPM\n",
    "validation.mean()"
   ]
  },
  {
   "cell_type": "code",
   "execution_count": 4,
   "id": "0a75e3ea",
   "metadata": {},
   "outputs": [
    {
     "data": {
      "text/plain": [
       "SRA           0.691843\n",
       "DIF-SR        0.649590\n",
       "Reweighing    0.687079\n",
       "dtype: float64"
      ]
     },
     "execution_count": 4,
     "metadata": {},
     "output_type": "execute_result"
    }
   ],
   "source": [
    "# Média geral Macro F1-Score\n",
    "f1_v.mean()"
   ]
  },
  {
   "cell_type": "code",
   "execution_count": 5,
   "id": "71559920",
   "metadata": {},
   "outputs": [
    {
     "name": "stdout",
     "output_type": "stream",
     "text": [
      "(SRA) Rank average: 2.443229166666667\n",
      "(DIF-SR) Rank average: 1.490625\n",
      "(Reweighing) Rank average: 2.066145833333333\n",
      "CD =  0.10697482547895126\n"
     ]
    },
    {
     "data": {
      "image/png": "[encoded data removed]",
      "text/plain": [
       "<Figure size 400x145 with 1 Axes>"
      ]
     },
     "metadata": {},
     "output_type": "display_data"
    }
   ],
   "source": [
    "# Diagrama CD - MCPM\n",
    "cd(validation, 'cd_multicriteria_validation_cap5')"
   ]
  },
  {
   "cell_type": "markdown",
   "id": "5751b22e",
   "metadata": {},
   "source": [
    "### Resultados no conjunto de teste"
   ]
  },
  {
   "cell_type": "code",
   "execution_count": 6,
   "id": "0ea32639",
   "metadata": {},
   "outputs": [
    {
     "data": {
      "text/html": [
       "<div>\n",
       "<style scoped>\n",
       "    .dataframe tbody tr th:only-of-type {\n",
       "        vertical-align: middle;\n",
       "    }\n",
       "\n",
       "    .dataframe tbody tr th {\n",
       "        vertical-align: top;\n",
       "    }\n",
       "\n",
       "    .dataframe thead th {\n",
       "        text-align: right;\n",
       "    }\n",
       "</style>\n",
       "<table border=\"1\" class=\"dataframe\">\n",
       "  <thead>\n",
       "    <tr style=\"text-align: right;\">\n",
       "      <th></th>\n",
       "      <th>SRA</th>\n",
       "      <th>DIF-SR</th>\n",
       "      <th>Reweighing</th>\n",
       "    </tr>\n",
       "    <tr>\n",
       "      <th>Dataset</th>\n",
       "      <th></th>\n",
       "      <th></th>\n",
       "      <th></th>\n",
       "    </tr>\n",
       "  </thead>\n",
       "  <tbody>\n",
       "    <tr>\n",
       "      <th>adult</th>\n",
       "      <td>0.40</td>\n",
       "      <td>0.58</td>\n",
       "      <td>0.49</td>\n",
       "    </tr>\n",
       "    <tr>\n",
       "      <th>amphet</th>\n",
       "      <td>0.98</td>\n",
       "      <td>0.97</td>\n",
       "      <td>0.94</td>\n",
       "    </tr>\n",
       "    <tr>\n",
       "      <th>arrhythmia</th>\n",
       "      <td>0.50</td>\n",
       "      <td>0.57</td>\n",
       "      <td>0.71</td>\n",
       "    </tr>\n",
       "    <tr>\n",
       "      <th>bank</th>\n",
       "      <td>0.56</td>\n",
       "      <td>0.71</td>\n",
       "      <td>0.74</td>\n",
       "    </tr>\n",
       "    <tr>\n",
       "      <th>compasmen</th>\n",
       "      <td>0.79</td>\n",
       "      <td>1.19</td>\n",
       "      <td>0.80</td>\n",
       "    </tr>\n",
       "    <tr>\n",
       "      <th>compaswomen</th>\n",
       "      <td>0.93</td>\n",
       "      <td>1.02</td>\n",
       "      <td>0.86</td>\n",
       "    </tr>\n",
       "    <tr>\n",
       "      <th>contraceptive</th>\n",
       "      <td>1.08</td>\n",
       "      <td>1.10</td>\n",
       "      <td>0.97</td>\n",
       "    </tr>\n",
       "    <tr>\n",
       "      <th>ecstasy</th>\n",
       "      <td>1.00</td>\n",
       "      <td>1.12</td>\n",
       "      <td>1.00</td>\n",
       "    </tr>\n",
       "    <tr>\n",
       "      <th>german</th>\n",
       "      <td>0.83</td>\n",
       "      <td>1.05</td>\n",
       "      <td>0.90</td>\n",
       "    </tr>\n",
       "    <tr>\n",
       "      <th>heart</th>\n",
       "      <td>0.41</td>\n",
       "      <td>0.63</td>\n",
       "      <td>0.60</td>\n",
       "    </tr>\n",
       "    <tr>\n",
       "      <th>student</th>\n",
       "      <td>1.10</td>\n",
       "      <td>1.16</td>\n",
       "      <td>1.13</td>\n",
       "    </tr>\n",
       "    <tr>\n",
       "      <th>titanic</th>\n",
       "      <td>0.16</td>\n",
       "      <td>0.41</td>\n",
       "      <td>0.37</td>\n",
       "    </tr>\n",
       "  </tbody>\n",
       "</table>\n",
       "</div>"
      ],
      "text/plain": [
       "                SRA  DIF-SR  Reweighing\n",
       "Dataset                                \n",
       "adult          0.40    0.58        0.49\n",
       "amphet         0.98    0.97        0.94\n",
       "arrhythmia     0.50    0.57        0.71\n",
       "bank           0.56    0.71        0.74\n",
       "compasmen      0.79    1.19        0.80\n",
       "compaswomen    0.93    1.02        0.86\n",
       "contraceptive  1.08    1.10        0.97\n",
       "ecstasy        1.00    1.12        1.00\n",
       "german         0.83    1.05        0.90\n",
       "heart          0.41    0.63        0.60\n",
       "student        1.10    1.16        1.13\n",
       "titanic        0.16    0.41        0.37"
      ]
     },
     "execution_count": 6,
     "metadata": {},
     "output_type": "execute_result"
    }
   ],
   "source": [
    "# Média dos resultados MCPM por dataset\n",
    "test, f1_b = report_best_model('multicriteria')\n",
    "test.groupby(by='Dataset').mean().round(decimals=2)"
   ]
  },
  {
   "cell_type": "code",
   "execution_count": 7,
   "id": "a0e18302",
   "metadata": {},
   "outputs": [
    {
     "data": {
      "text/plain": [
       "SRA           0.73\n",
       "DIF-SR        0.88\n",
       "Reweighing    0.79\n",
       "dtype: float64"
      ]
     },
     "execution_count": 7,
     "metadata": {},
     "output_type": "execute_result"
    }
   ],
   "source": [
    "# Média geral MCPM\n",
    "test.mean().round(decimals=2)"
   ]
  },
  {
   "cell_type": "code",
   "execution_count": 8,
   "id": "1be4ffe1",
   "metadata": {},
   "outputs": [
    {
     "data": {
      "text/plain": [
       "SRA           0.702757\n",
       "DIF-SR        0.652139\n",
       "Reweighing    0.696043\n",
       "dtype: float64"
      ]
     },
     "execution_count": 8,
     "metadata": {},
     "output_type": "execute_result"
    }
   ],
   "source": [
    "# Média geral Macro F1-Score\n",
    "f1_b.mean()"
   ]
  },
  {
   "cell_type": "code",
   "execution_count": 9,
   "id": "82ccc50e",
   "metadata": {},
   "outputs": [
    {
     "name": "stdout",
     "output_type": "stream",
     "text": [
      "(SRA) Rank average: 2.316666666666667\n",
      "(DIF-SR) Rank average: 1.6083333333333334\n",
      "(Reweighing) Rank average: 2.075\n",
      "CD =  0.42789930191580505\n"
     ]
    },
    {
     "data": {
      "image/png": "[encoded data removed]",
      "text/plain": [
       "<Figure size 400x145 with 1 Axes>"
      ]
     },
     "metadata": {},
     "output_type": "display_data"
    }
   ],
   "source": [
    "# Diagrama CD - MCPM\n",
    "cd(test.groupby(by=['Dataset', 'Config']).mean(), 'cd_multicriteria_test_cap5')"
   ]
  },
  {
   "cell_type": "code",
   "execution_count": 10,
   "id": "47ae583d",
   "metadata": {},
   "outputs": [
    {
     "name": "stdout",
     "output_type": "stream",
     "text": [
      "(SRA) Rank average: 2.275\n",
      "(DIF-SR) Rank average: 1.7166666666666666\n",
      "(Reweighing) Rank average: 2.0083333333333333\n",
      "CD =  0.42789930191580505\n"
     ]
    },
    {
     "data": {
      "image/png": "[encoded data removed]",
      "text/plain": [
       "<Figure size 400x155 with 1 Axes>"
      ]
     },
     "metadata": {},
     "output_type": "display_data"
    }
   ],
   "source": [
    "# Diagrama CD - RPD\n",
    "test, f1_v = report_best_model('ratio_selection_rate')\n",
    "cd(test.groupby(by=['Dataset', 'Config']).mean(), 'cd_rpd_test_cap5')"
   ]
  },
  {
   "cell_type": "code",
   "execution_count": 11,
   "id": "5aa0a659",
   "metadata": {},
   "outputs": [
    {
     "name": "stdout",
     "output_type": "stream",
     "text": [
      "(SRA) Rank average: 2.316666666666667\n",
      "(DIF-SR) Rank average: 1.6333333333333333\n",
      "(Reweighing) Rank average: 2.05\n",
      "CD =  0.42789930191580505\n"
     ]
    },
    {
     "data": {
      "image/png": "[encoded data removed]",
      "text/plain": [
       "<Figure size 400x155 with 1 Axes>"
      ]
     },
     "metadata": {},
     "output_type": "display_data"
    }
   ],
   "source": [
    "# Diagrama CD - RIO\n",
    "test, f1_v = report_best_model('ratio_recall')\n",
    "cd(test.groupby(by=['Dataset', 'Config']).mean(), 'cd_rio_test_cap5')"
   ]
  },
  {
   "cell_type": "code",
   "execution_count": 12,
   "id": "4c56b986",
   "metadata": {},
   "outputs": [
    {
     "name": "stdout",
     "output_type": "stream",
     "text": [
      "(SRA) Rank average: 2.2916666666666665\n",
      "(DIF-SR) Rank average: 1.675\n",
      "(Reweighing) Rank average: 2.033333333333333\n",
      "CD =  0.42789930191580505\n"
     ]
    },
    {
     "data": {
      "image/png": "[encoded data removed]",
      "text/plain": [
       "<Figure size 400x155 with 1 Axes>"
      ]
     },
     "metadata": {},
     "output_type": "display_data"
    }
   ],
   "source": [
    "# Diagrama CD - RPE\n",
    "test, f1_v = report_best_model('ratio_odds')\n",
    "cd(test.groupby(by=['Dataset', 'Config']).mean(), 'cd_rpe_test_cap5')"
   ]
  },
  {
   "cell_type": "code",
   "execution_count": 13,
   "id": "05c2c448",
   "metadata": {},
   "outputs": [
    {
     "data": {
      "text/html": [
       "<div>\n",
       "<style scoped>\n",
       "    .dataframe tbody tr th:only-of-type {\n",
       "        vertical-align: middle;\n",
       "    }\n",
       "\n",
       "    .dataframe tbody tr th {\n",
       "        vertical-align: top;\n",
       "    }\n",
       "\n",
       "    .dataframe thead th {\n",
       "        text-align: right;\n",
       "    }\n",
       "</style>\n",
       "<table border=\"1\" class=\"dataframe\">\n",
       "  <thead>\n",
       "    <tr style=\"text-align: right;\">\n",
       "      <th></th>\n",
       "      <th>SRA</th>\n",
       "      <th>DIF-SR</th>\n",
       "      <th>Reweighing</th>\n",
       "    </tr>\n",
       "    <tr>\n",
       "      <th>Config</th>\n",
       "      <th></th>\n",
       "      <th></th>\n",
       "      <th></th>\n",
       "    </tr>\n",
       "  </thead>\n",
       "  <tbody>\n",
       "    <tr>\n",
       "      <th>ada</th>\n",
       "      <td>0.80</td>\n",
       "      <td>0.87</td>\n",
       "      <td>0.82</td>\n",
       "    </tr>\n",
       "    <tr>\n",
       "      <th>dt</th>\n",
       "      <td>0.64</td>\n",
       "      <td>0.92</td>\n",
       "      <td>0.77</td>\n",
       "    </tr>\n",
       "    <tr>\n",
       "      <th>rf</th>\n",
       "      <td>0.73</td>\n",
       "      <td>0.84</td>\n",
       "      <td>0.80</td>\n",
       "    </tr>\n",
       "    <tr>\n",
       "      <th>svm</th>\n",
       "      <td>0.69</td>\n",
       "      <td>0.88</td>\n",
       "      <td>0.75</td>\n",
       "    </tr>\n",
       "    <tr>\n",
       "      <th>xgb</th>\n",
       "      <td>0.80</td>\n",
       "      <td>0.87</td>\n",
       "      <td>0.82</td>\n",
       "    </tr>\n",
       "  </tbody>\n",
       "</table>\n",
       "</div>"
      ],
      "text/plain": [
       "         SRA  DIF-SR  Reweighing\n",
       "Config                          \n",
       "ada     0.80    0.87        0.82\n",
       "dt      0.64    0.92        0.77\n",
       "rf      0.73    0.84        0.80\n",
       "svm     0.69    0.88        0.75\n",
       "xgb     0.80    0.87        0.82"
      ]
     },
     "execution_count": 13,
     "metadata": {},
     "output_type": "execute_result"
    }
   ],
   "source": [
    "# Média dos resultados MCPM por tipo de algoritmo\n",
    "test, f1_b = report_best_model('multicriteria')\n",
    "test.groupby(by='Config').mean().round(decimals=2)"
   ]
  },
  {
   "cell_type": "code",
   "execution_count": 14,
   "id": "0a3fb1d6",
   "metadata": {},
   "outputs": [
    {
     "data": {
      "text/plain": [
       "DT     0.82\n",
       "KNN    0.86\n",
       "MLP    0.83\n",
       "dtype: float64"
      ]
     },
     "execution_count": 14,
     "metadata": {},
     "output_type": "execute_result"
    }
   ],
   "source": [
    "# Média geral dos resultados MCPM por configuração aplicada ao DIF-SR\n",
    "test, f1_b = report_dif_model('multicriteria')\n",
    "test.mean().round(decimals=2)"
   ]
  }
 ],
 "metadata": {
  "kernelspec": {
   "display_name": "Python 3 (ipykernel)",
   "language": "python",
   "name": "python3"
  },
  "language_info": {
   "codemirror_mode": {
    "name": "ipython",
    "version": 3
   },
   "file_extension": ".py",
   "mimetype": "text/x-python",
   "name": "python",
   "nbconvert_exporter": "python",
   "pygments_lexer": "ipython3",
   "version": "3.8.10"
  }
 },
 "nbformat": 4,
 "nbformat_minor": 5
}
