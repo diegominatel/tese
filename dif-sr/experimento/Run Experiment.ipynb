{
 "cells": [
  {
   "cell_type": "code",
   "execution_count": null,
   "id": "731dbc43",
   "metadata": {},
   "outputs": [],
   "source": [
    "import sys\n",
    "import pandas as pd\n",
    "import numpy as np \n",
    "import sys\n",
    "\n",
    "from settings import set_configs\n",
    "\n",
    "sys.path.append('../codigos/')\n",
    "from experiment_performer import ExperimentPerformer\n",
    "\n",
    "sys.path.append('../../datasets/preprocessado/')\n",
    "from datasets import (Adult, Amphet, Arrhythmia, Bank, CompasMen, CompasWomen, Contraceptive, Ecstasy, German, \n",
    "                      Heart, Student, Titanic)\n",
    "\n",
    "import warnings\n",
    "warnings.filterwarnings('ignore')"
   ]
  },
  {
   "cell_type": "code",
   "execution_count": null,
   "id": "0ed56773",
   "metadata": {},
   "outputs": [],
   "source": [
    "datasets = [Adult, Amphet, Arrhythmia, Bank, CompasMen, CompasWomen, Contraceptive, Ecstasy, German, \n",
    "            Heart, Student, Titanic]\n",
    "\n",
    "for dataset in datasets:\n",
    "    x, y = dataset().get_xy()\n",
    "    all_configs = set_configs(x.shape[1])\n",
    "    for config_name, settings in all_configs.items():\n",
    "        name = dataset.__name__.lower() + '_' + config_name\n",
    "        experiment = ExperimentPerformer(classifier_settings=settings, protected_attribute='Group',\n",
    "                                         priv_group='Privileged', n=5, test_size=0.2,\n",
    "                                         random_state=42, print_display=True,\n",
    "                                         print_reports=True, experiment_name=name)\n",
    "        experiment.calculate(x, y)"
   ]
  },
  {
   "cell_type": "code",
   "execution_count": null,
   "id": "452ad796",
   "metadata": {},
   "outputs": [],
   "source": []
  },
  {
   "cell_type": "code",
   "execution_count": null,
   "id": "21b9e2e7",
   "metadata": {},
   "outputs": [],
   "source": []
  }
 ],
 "metadata": {
  "kernelspec": {
   "display_name": "Python 3 (ipykernel)",
   "language": "python",
   "name": "python3"
  },
  "language_info": {
   "codemirror_mode": {
    "name": "ipython",
    "version": 3
   },
   "file_extension": ".py",
   "mimetype": "text/x-python",
   "name": "python",
   "nbconvert_exporter": "python",
   "pygments_lexer": "ipython3",
   "version": "3.8.10"
  }
 },
 "nbformat": 4,
 "nbformat_minor": 5
}
